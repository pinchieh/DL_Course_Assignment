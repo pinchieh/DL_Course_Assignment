{
 "cells": [
  {
   "cell_type": "code",
   "execution_count": 1,
   "metadata": {},
   "outputs": [],
   "source": [
    "### XOR\n",
    "import matplotlib.pyplot as plt\n",
    "import numpy as np\n",
    "import tensorflow as tf\n",
    "from sklearn.metrics import accuracy_score\n",
    "xor_data = np.array([[1, 0],\n",
    "                    [0, 1],\n",
    "                    [1, 1],\n",
    "                    [0, 0]])\n",
    "xor_label = np.array([[1], [1], [0], [0]])"
   ]
  },
  {
   "cell_type": "code",
   "execution_count": 2,
   "metadata": {},
   "outputs": [
    {
     "name": "stdout",
     "output_type": "stream",
     "text": [
      "Layer1_Weight:\n",
      " [[ 8.835011   6.835361  -5.23937   -4.8972363]\n",
      " [-5.395621  -8.310999   6.441631  -7.268155 ]]\n",
      "Layer1_Bias:\n",
      " [[ 1.1194189 -3.4533658  3.0287666  1.1107148]]\n",
      "Layer2_Weight:\n",
      " [[-8.433711 ]\n",
      " [ 8.415017 ]\n",
      " [-1.1020945]\n",
      " [-5.195134 ]]\n",
      "Layer2_Bias:\n",
      " [[5.2797003]]\n",
      "Accuracy: 1.0\n"
     ]
    }
   ],
   "source": [
    "with tf.Graph().as_default() as g:\n",
    "    with tf.name_scope(\"model\"):\n",
    "        x_input = tf.placeholder(tf.float32, [None, 2])\n",
    "        y_label = tf.placeholder(tf.float32, [None, 1])\n",
    "    \n",
    "        w1 = tf.Variable(tf.random_normal(shape = (2,4),name = \"Weight1\"))\n",
    "        b1 = tf.Variable(tf.random_normal(shape = (1,4),name = \"Bias1\"))\n",
    "    \n",
    "        hidden_layer = tf.sigmoid(tf.matmul(x_input , w1) + b1)\n",
    "    \n",
    "        w2 = tf.Variable(tf.random_normal(shape = (4,1),name = \"Weight1\"))\n",
    "        b2 = tf.Variable(tf.random_normal(shape = (1,1),name = \"Bias2\"))\n",
    "    \n",
    "    \n",
    "        output_layer = tf.sigmoid(tf.matmul(hidden_layer , w2) +b2)\n",
    "        pass\n",
    "\n",
    "    with tf.name_scope(\"loss\"):\n",
    "        mse = tf.losses.mean_squared_error(y_label , output_layer)\n",
    "        pass\n",
    "    \n",
    "    with tf.name_scope(\"optimaizer\"):\n",
    "        optimizer = tf.train.AdamOptimizer(learning_rate = 0.1).minimize(mse)\n",
    "        pass\n",
    "    # start building your model and meet the requirements\n",
    "    # from here\n",
    "    \n",
    "with tf.Session(graph=g) as sess:\n",
    "    # start run the seesion and meet the requrements\n",
    "    # from here \n",
    "    sess.run(tf.global_variables_initializer())\n",
    "    epochs = 500\n",
    "    for epoch in range(epochs+1):\n",
    "        sess.run(optimizer,feed_dict={x_input: xor_data,y_label: xor_label})\n",
    "\n",
    "    #print(sess.run(output_layer, feed_dict={x_input: xor_data}))\n",
    "    \n",
    "    pred = sess.run(output_layer, feed_dict={x_input: xor_data})\n",
    "    #print(pred)\n",
    "    \n",
    "    \n",
    "    for i in range(pred.shape[0]):\n",
    "        if (pred[i][0] > 0.5):\n",
    "            pred[i][0] = 1\n",
    "        else:\n",
    "            pred[i][0] = 0\n",
    "    #print(pred)\n",
    "    print(\"Layer1_Weight:\\n {}\".format(sess.run(w1)))\n",
    "    print(\"Layer1_Bias:\\n {}\".format(sess.run(b1)))\n",
    "    print(\"Layer2_Weight:\\n {}\".format(sess.run(w2)))\n",
    "    print(\"Layer2_Bias:\\n {}\".format(sess.run(b2)))\n",
    "    print(\"Accuracy: {}\".format(accuracy_score(xor_label, pred)))\n",
    "    #print(pred.shape)\n",
    "    pass"
   ]
  },
  {
   "cell_type": "code",
   "execution_count": 3,
   "metadata": {},
   "outputs": [
    {
     "name": "stdout",
     "output_type": "stream",
     "text": [
      "WARNING:tensorflow:From <ipython-input-3-0187dd8a5abd>:4: read_data_sets (from tensorflow.contrib.learn.python.learn.datasets.mnist) is deprecated and will be removed in a future version.\n",
      "Instructions for updating:\n",
      "Please use alternatives such as official/mnist/dataset.py from tensorflow/models.\n",
      "WARNING:tensorflow:From c:\\python36\\lib\\site-packages\\tensorflow\\contrib\\learn\\python\\learn\\datasets\\mnist.py:260: maybe_download (from tensorflow.contrib.learn.python.learn.datasets.base) is deprecated and will be removed in a future version.\n",
      "Instructions for updating:\n",
      "Please write your own downloading logic.\n",
      "WARNING:tensorflow:From c:\\python36\\lib\\site-packages\\tensorflow\\contrib\\learn\\python\\learn\\datasets\\mnist.py:262: extract_images (from tensorflow.contrib.learn.python.learn.datasets.mnist) is deprecated and will be removed in a future version.\n",
      "Instructions for updating:\n",
      "Please use tf.data to implement this functionality.\n",
      "Extracting data/mnist\\train-images-idx3-ubyte.gz\n",
      "WARNING:tensorflow:From c:\\python36\\lib\\site-packages\\tensorflow\\contrib\\learn\\python\\learn\\datasets\\mnist.py:267: extract_labels (from tensorflow.contrib.learn.python.learn.datasets.mnist) is deprecated and will be removed in a future version.\n",
      "Instructions for updating:\n",
      "Please use tf.data to implement this functionality.\n",
      "Extracting data/mnist\\train-labels-idx1-ubyte.gz\n",
      "WARNING:tensorflow:From c:\\python36\\lib\\site-packages\\tensorflow\\contrib\\learn\\python\\learn\\datasets\\mnist.py:110: dense_to_one_hot (from tensorflow.contrib.learn.python.learn.datasets.mnist) is deprecated and will be removed in a future version.\n",
      "Instructions for updating:\n",
      "Please use tf.one_hot on tensors.\n",
      "Extracting data/mnist\\t10k-images-idx3-ubyte.gz\n",
      "Extracting data/mnist\\t10k-labels-idx1-ubyte.gz\n",
      "WARNING:tensorflow:From c:\\python36\\lib\\site-packages\\tensorflow\\contrib\\learn\\python\\learn\\datasets\\mnist.py:290: DataSet.__init__ (from tensorflow.contrib.learn.python.learn.datasets.mnist) is deprecated and will be removed in a future version.\n",
      "Instructions for updating:\n",
      "Please use alternatives such as official/mnist/dataset.py from tensorflow/models.\n"
     ]
    }
   ],
   "source": [
    "### MNIST\n",
    "from tensorflow.examples.tutorials.mnist import input_data\n",
    "# load mnist data\n",
    "mnist = input_data.read_data_sets(\"data/mnist\", one_hot=True)"
   ]
  },
  {
   "cell_type": "code",
   "execution_count": 4,
   "metadata": {},
   "outputs": [
    {
     "name": "stdout",
     "output_type": "stream",
     "text": [
      "training data size: 55000\n",
      "validation data size: 5000\n",
      "testing data size: 10000\n",
      "Shape of image: (784,)\n",
      "Shape of label: (10,)\n"
     ]
    }
   ],
   "source": [
    "print(\"training data size: {}\".format(mnist.train.num_examples))\n",
    "print(\"validation data size: {}\".format(mnist.validation.num_examples))\n",
    "print(\"testing data size: {}\".format(mnist.test.num_examples))\n",
    "\n",
    "print(\"Shape of image: {}\".format(mnist.train.images[0].shape))\n",
    "print(\"Shape of label: {}\".format(mnist.train.labels[0].shape))\n",
    "#print(mnist.test.images[0])\n"
   ]
  },
  {
   "cell_type": "code",
   "execution_count": 5,
   "metadata": {},
   "outputs": [
    {
     "data": {
      "image/png": "[encoded data removed]",
      "text/plain": [
       "<Figure size 1296x1296 with 5 Axes>"
      ]
     },
     "metadata": {},
     "output_type": "display_data"
    }
   ],
   "source": [
    "n = 5\n",
    "plt.figure(figsize=(18,18))\n",
    "for i in range(5):\n",
    "    plt.subplot(n, n, i+1)\n",
    "    plt.imshow(mnist.train.images[i].reshape(28,28), cmap='gray')\n",
    "    plt.title(np.argmax(mnist.train.labels[i]))\n",
    "    plt.xticks([])\n",
    "    plt.yticks([])\n",
    "plt.show()"
   ]
  },
  {
   "cell_type": "code",
   "execution_count": 7,
   "metadata": {},
   "outputs": [
    {
     "name": "stdout",
     "output_type": "stream",
     "text": [
      "Epoch: 1\n",
      "Valid Acc: 0.922\n",
      "Test Acc: 0.919\n",
      "Epoch: 2\n",
      "Valid Acc: 0.933\n",
      "Test Acc: 0.934\n",
      "Epoch: 3\n",
      "Valid Acc: 0.944\n",
      "Test Acc: 0.939\n",
      "Epoch: 4\n",
      "Valid Acc: 0.946\n",
      "Test Acc: 0.947\n",
      "Epoch: 5\n",
      "Valid Acc: 0.948\n",
      "Test Acc: 0.946\n",
      "Epoch: 6\n",
      "Valid Acc: 0.948\n",
      "Test Acc: 0.946\n",
      "Epoch: 7\n",
      "Valid Acc: 0.949\n",
      "Test Acc: 0.944\n",
      "Epoch: 8\n",
      "Valid Acc: 0.949\n",
      "Test Acc: 0.950\n",
      "Epoch: 9\n",
      "Valid Acc: 0.959\n",
      "Test Acc: 0.955\n",
      "Epoch: 10\n",
      "Valid Acc: 0.960\n",
      "Test Acc: 0.959\n"
     ]
    }
   ],
   "source": [
    "#setting\n",
    "feature_dims = 784 # example with 784 features\n",
    "neurons = 256 # fully connected layer with 1024 neurons\n",
    "classes = 10 # 10 classes classification problem\n",
    "batch_size = 128\n",
    "\n",
    "with tf.Graph().as_default() as g:\n",
    "    ## meet the requirements\n",
    "    ## then you will\n",
    "    \"\"\" Define dataset and iterator \"\"\"\n",
    "    with tf.name_scope(\"data\"):\n",
    "        \n",
    "        training_dataset = tf.data.Dataset.from_tensor_slices((mnist.train.images, mnist.train.labels))\n",
    "        training_dataset = training_dataset.batch(batch_size)\n",
    "        ## Create a `iterator` to extract elements from `dataset`\n",
    "        training_iterator = training_dataset.make_initializable_iterator()\n",
    "        x_input, y_label = training_iterator.get_next()\n",
    "        pass\n",
    "    \n",
    "    \"\"\" Build the model \"\"\"\n",
    "        \n",
    "    with tf.name_scope(\"model\"):\n",
    "        ##fully connected \n",
    "        x = tf.placeholder(tf.float32, [None, 784])\n",
    "        y_ = tf.placeholder(tf.float32, [None, 10])\n",
    "\n",
    "        w1 = tf.get_variable(\"weight1\", shape=[784, neurons],initializer=tf.random_normal_initializer)\n",
    "        b1 = tf.get_variable(\"bias1\", shape=[neurons],initializer=tf.random_normal_initializer)\n",
    "        hidden_layer_1 = tf.nn.relu(tf.matmul(x, w1) + b1)\n",
    "        \n",
    "        w2 = tf.get_variable(\"weight2\",shape = [neurons,neurons],initializer=tf.random_normal_initializer)\n",
    "        b2 = tf.get_variable(\"bias2\",shape = [neurons],initializer=tf.random_normal_initializer)\n",
    "        hidden_layer_2 =  tf.nn.relu(tf.matmul(hidden_layer_1, w2) + b2)\n",
    "        \n",
    "        w3 = tf.get_variable(\"weight3\",shape = [neurons,classes],initializer=tf.random_normal_initializer)\n",
    "        b3 = tf.get_variable(\"bias3\",shape = [classes],initializer=tf.random_normal_initializer)\n",
    "        logits = tf.matmul(hidden_layer_2, w3) + b3\n",
    "        prediction = tf.nn.softmax(logits)\n",
    "        \n",
    "        pass\n",
    "\n",
    "    \"\"\" Define the loss \"\"\"\n",
    "    with tf.name_scope(\"loss\"):\n",
    "        cross_entropy = tf.reduce_mean(tf.nn.softmax_cross_entropy_with_logits(logits=logits, labels=y_))\n",
    "        pass\n",
    "#tensorflow训练神经网络的时候,初学者往往也会遇到网络崩溃的情况.具体的表现是,出现了nan(not a number).\n",
    "#这个情况一般是由于进行交叉熵运算时,出现了log(0). referance:\n",
    "#https://blog.csdn.net/ljhandlwt/article/details/77334450?fbclid=IwAR0rgfzDDYiWhy7o7pZB8ZS0XL39zJgyCXJemYb7KzD8tuZlTQCvfK9oNI4\n",
    "    \n",
    "    \"\"\" Define the optimizer \"\"\"\n",
    "    with tf.name_scope(\"optimizer\"):\n",
    "        train_step = tf.train.AdamOptimizer(learning_rate = 0.005).minimize(cross_entropy)\n",
    "        pass\n",
    "    \n",
    "    \"\"\" Other tensors or operations you need \"\"\"\n",
    "    with tf.name_scope(\"accuracy\"):\n",
    "        correct_prediction = tf.equal(tf.argmax(prediction, 1), tf.argmax(y_, 1))\n",
    "        accuracy = tf.reduce_mean(tf.cast(correct_prediction, tf.float32))\n",
    "        pass\n",
    "    \n",
    "\n",
    "config = tf.ConfigProto()\n",
    "config.gpu_options.allow_growth = True # avoids occupying full memory of GPU    \n",
    "\n",
    "with tf.Session(config = config , graph=g) as sess:\n",
    "    ## just do it\n",
    "    sess.run(tf.global_variables_initializer())\n",
    "    \n",
    "    epochs = 10\n",
    "    for i in range(1,epochs+1):\n",
    "        print(\"Epoch: {}\".format(i))\n",
    "        sess.run(training_iterator.initializer) # initialize the iterator\n",
    "        try:\n",
    "            while(True):\n",
    "                X_input_train,y_label_train = sess.run([x_input,y_label])\n",
    "                #print(\"X: {}\".format(X_input_train))\n",
    "                #print(\"y: {}\".format(y_label_train))\n",
    "                sess.run(train_step,feed_dict={x: X_input_train, y_: y_label_train})    \n",
    "        except tf.errors.OutOfRangeError:\n",
    "            pass\n",
    "        \n",
    "        valid_acc = sess.run(accuracy,feed_dict={x: mnist.validation.images, y_: mnist.validation.labels})\n",
    "        test_acc = sess.run(accuracy,feed_dict={x: mnist.test.images, y_: mnist.test.labels})\n",
    "        print(\"Valid Acc: %.3f\"%valid_acc)\n",
    "        print(\"Test Acc: %.3f\"%test_acc)\n",
    "    pass"
   ]
  },
  {
   "cell_type": "code",
   "execution_count": null,
   "metadata": {},
   "outputs": [],
   "source": []
  },
  {
   "cell_type": "code",
   "execution_count": null,
   "metadata": {},
   "outputs": [],
   "source": []
  }
 ],
 "metadata": {
  "kernelspec": {
   "display_name": "Python 3",
   "language": "python",
   "name": "python3"
  },
  "language_info": {
   "codemirror_mode": {
    "name": "ipython",
    "version": 3
   },
   "file_extension": ".py",
   "mimetype": "text/x-python",
   "name": "python",
   "nbconvert_exporter": "python",
   "pygments_lexer": "ipython3",
   "version": "3.6.6"
  }
 },
 "nbformat": 4,
 "nbformat_minor": 2
}
