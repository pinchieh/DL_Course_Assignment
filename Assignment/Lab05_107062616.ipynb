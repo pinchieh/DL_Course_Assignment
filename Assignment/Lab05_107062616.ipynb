{
 "cells": [
  {
   "cell_type": "code",
   "execution_count": 44,
   "metadata": {},
   "outputs": [
    {
     "name": "stdout",
     "output_type": "stream",
     "text": [
      "(52399, 8)\n",
      "Index(['PERIOD', 'GAME_CLOCK', 'SHOT_CLOCK', 'DRIBBLES', 'TOUCH_TIME',\n",
      "       'SHOT_DIST', 'PTS_TYPE', 'CLOSE_DEF_DIST'],\n",
      "      dtype='object')\n",
      "Index(['FGM'], dtype='object')\n",
      "   PERIOD  GAME_CLOCK  SHOT_CLOCK  DRIBBLES  TOUCH_TIME  SHOT_DIST  PTS_TYPE  \\\n",
      "0       2         557        15.5         0         0.7        2.1         2   \n",
      "1       2         151        20.1         0         0.8        2.7         2   \n",
      "2       3         448        14.2         0         0.8        5.1         2   \n",
      "3       1         279        10.6         0         0.6        1.9         2   \n",
      "\n",
      "   CLOSE_DEF_DIST  \n",
      "0             0.0  \n",
      "1             3.4  \n",
      "2             0.1  \n",
      "3             2.7  \n",
      "   FGM\n",
      "0    1\n",
      "1    1\n",
      "2    0\n",
      "3    1\n"
     ]
    },
    {
     "name": "stderr",
     "output_type": "stream",
     "text": [
      "c:\\python37\\lib\\site-packages\\ipykernel_launcher.py:31: DataConversionWarning: A column-vector y was passed when a 1d array was expected. Please change the shape of y to (n_samples,), for example using ravel().\n"
     ]
    },
    {
     "name": "stdout",
     "output_type": "stream",
     "text": [
      "<class 'numpy.ndarray'>\n",
      "(52399, 8)\n"
     ]
    },
    {
     "name": "stderr",
     "output_type": "stream",
     "text": [
      "c:\\python37\\lib\\site-packages\\ipykernel_launcher.py:39: DeprecationWarning: \n",
      ".ix is deprecated. Please use\n",
      ".loc for label based indexing or\n",
      ".iloc for positional indexing\n",
      "\n",
      "See the documentation here:\n",
      "http://pandas.pydata.org/pandas-docs/stable/indexing.html#ix-indexer-is-deprecated\n",
      "c:\\python37\\lib\\site-packages\\ipykernel_launcher.py:50: FutureWarning: Method .as_matrix will be removed in a future version. Use .values instead.\n"
     ]
    }
   ],
   "source": [
    "import pandas as pd\n",
    "import numpy as np\n",
    "from sklearn.model_selection import train_test_split\n",
    "from sklearn.ensemble import RandomForestClassifier\n",
    "from sklearn.preprocessing import StandardScaler\n",
    "from sklearn.preprocessing import PolynomialFeatures\n",
    "import matplotlib.pyplot as plt\n",
    "%matplotlib inline\n",
    "\n",
    "\n",
    "X_train = pd.read_csv('./data/nba/X_train.csv')\n",
    "y_train = pd.read_csv('./data/nba/y_train.csv')\n",
    "\n",
    "X_test = pd.read_csv('./data/nba/X_test.csv')\n",
    "\n",
    "\n",
    "print(X_train.shape)\n",
    "print(X_train.columns)\n",
    "print(y_train.columns)\n",
    "\n",
    "print(X_train[:4])\n",
    "print(y_train[:4])\n",
    "\n",
    "\n",
    "forest = RandomForestClassifier(criterion='entropy',\n",
    "                                n_estimators=200, \n",
    "                                random_state=1,\n",
    "                                n_jobs=2)\n",
    "\n",
    "\n",
    "forest.fit(X_train, y_train)\n",
    "\n",
    "importances = forest.feature_importances_\n",
    "# get sort indices in descending order\n",
    "indices = np.argsort(importances)[::-1]\n",
    "\n",
    "#print(indices)\n",
    "\n",
    "X_train_select_forest = X_train.ix[:,[1,5,2]]\n",
    "\n",
    "#print(X_train_select_forest)\n",
    "\n",
    "\n",
    "X_train_forest, X_valid_forest, y_train_forest, y_valid_forest = train_test_split(\n",
    "        X_train_select_forest, y_train, test_size=0.3, random_state=0)\n",
    "\n",
    "\n",
    "\n",
    "def pd2np(df):\n",
    "    return df.as_matrix()\n",
    "X_train = pd2np(X_train)\n",
    "y_train = pd2np(y_train)\n",
    "\n",
    "X_test = pd2np(X_test)\n",
    "\n",
    "print(type(X_train))\n",
    "print(X_train.shape)\n",
    "\n",
    "\n",
    "sc = StandardScaler()\n",
    "sc.fit(X_train)\n",
    "X_train = sc.transform(X_train)\n",
    "X_test = sc.transform(X_test)\n",
    "\n",
    "\n",
    "X_train, X_valid, y_train, y_valid = train_test_split(\n",
    "        X_train, y_train, test_size=0.3, random_state=0)\n"
   ]
  },
  {
   "cell_type": "code",
   "execution_count": 45,
   "metadata": {},
   "outputs": [
    {
     "name": "stderr",
     "output_type": "stream",
     "text": [
      "c:\\python37\\lib\\site-packages\\ipykernel_launcher.py:11: DataConversionWarning: A column-vector y was passed when a 1d array was expected. Please change the shape of y to (n_samples,), for example using ravel().\n",
      "  # This is added back by InteractiveShellApp.init_path()\n"
     ]
    },
    {
     "name": "stdout",
     "output_type": "stream",
     "text": [
      "Train Accuracy (forest): 0.998092\n",
      "Valid Accuracy (forest): 0.561896\n"
     ]
    }
   ],
   "source": [
    "#RandomForestClassifier \n",
    "\n",
    "from sklearn.metrics import accuracy_score\n",
    "\n",
    "forest = RandomForestClassifier(criterion='entropy',\n",
    "                                n_estimators=200, \n",
    "                                random_state=1,\n",
    "                                n_jobs=2)\n",
    "\n",
    "\n",
    "forest.fit(X_train_forest, y_train)\n",
    "\n",
    "y_train_pred = forest.predict(X_train_forest)\n",
    "y_valid_pred = forest.predict(X_valid_forest)\n",
    "\n",
    "\n",
    "\n",
    "print('Train Accuracy (forest): %f' % accuracy_score(y_train, y_train_pred))\n",
    "print('Valid Accuracy (forest): %f' % accuracy_score(y_valid, y_valid_pred))\n"
   ]
  },
  {
   "cell_type": "code",
   "execution_count": 46,
   "metadata": {},
   "outputs": [],
   "source": [
    "def get_accuracy(X, Y):\n",
    "    Y = Y>0.5\n",
    "    return np.average(X==Y)"
   ]
  },
  {
   "cell_type": "code",
   "execution_count": 47,
   "metadata": {},
   "outputs": [
    {
     "name": "stdout",
     "output_type": "stream",
     "text": [
      "Training: 0.605142\n",
      "valid_acc: 0.612850\n"
     ]
    }
   ],
   "source": [
    "# LinearRegression did'nt select feature\n",
    "from sklearn.linear_model import LinearRegression\n",
    "regr = LinearRegression()\n",
    "regr.fit(X_train, y_train)\n",
    "y_train_pred_lire = regr.predict(X_train)\n",
    "y_valid_pred_lire = regr.predict(X_valid)\n",
    "\n",
    "print('Training: %f' % (get_accuracy(y_train,y_train_pred_lire)))\n",
    "print('valid_acc: %f' % (get_accuracy(y_valid, y_valid_pred_lire)))"
   ]
  },
  {
   "cell_type": "code",
   "execution_count": 48,
   "metadata": {},
   "outputs": [
    {
     "name": "stdout",
     "output_type": "stream",
     "text": [
      "\n",
      "[Alpha = 0]\n",
      "Training: 0.544344\n",
      "valid_acc: 0.542303\n",
      "\n",
      "[Alpha = 1]\n",
      "Training: 0.544344\n",
      "valid_acc: 0.542303\n",
      "\n",
      "[Alpha = 10]\n",
      "Training: 0.544344\n",
      "valid_acc: 0.542303\n",
      "\n",
      "[Alpha = 100]\n",
      "Training: 0.544344\n",
      "valid_acc: 0.542303\n",
      "\n",
      "[Alpha = 1000]\n",
      "Training: 0.544344\n",
      "valid_acc: 0.542303\n"
     ]
    }
   ],
   "source": [
    "#LASSO did'nt select feature\n",
    "from sklearn.linear_model import Lasso\n",
    "for a in [0, 1, 10, 100, 1000]:\n",
    "    lr_rg = Lasso(alpha=1)\n",
    "    lr_rg.fit(X_train, y_train)\n",
    "\n",
    "    y_train_pred_lasso = lr_rg.predict(X_train)\n",
    "    y_valid_pred_lasso = lr_rg.predict(X_valid)\n",
    "    print('\\n[Alpha = %d]' % a )\n",
    "    print('Training: %f' % (get_accuracy(y_train,y_train_pred_lasso)))\n",
    "    print('valid_acc: %f' % (get_accuracy(y_valid, y_valid_pred_lasso)))"
   ]
  },
  {
   "cell_type": "code",
   "execution_count": 49,
   "metadata": {},
   "outputs": [
    {
     "name": "stdout",
     "output_type": "stream",
     "text": [
      "\n",
      "[Alpha = 0]\n",
      "Training: 0.605142\n",
      "valid_acc: 0.612850\n",
      "\n",
      "[Alpha = 1]\n",
      "Training: 0.605115\n",
      "valid_acc: 0.612850\n",
      "\n",
      "[Alpha = 10]\n",
      "Training: 0.605142\n",
      "valid_acc: 0.612913\n",
      "\n",
      "[Alpha = 100]\n",
      "Training: 0.605333\n",
      "valid_acc: 0.612850\n",
      "\n",
      "[Alpha = 1000]\n",
      "Training: 0.606205\n",
      "valid_acc: 0.612723\n"
     ]
    }
   ],
   "source": [
    "#Ridge did'nt select feature\n",
    "from sklearn.linear_model import Ridge\n",
    "for a in [0, 1, 10, 100, 1000]:\n",
    "    lr_Ridge = Ridge(alpha=a)\n",
    "    lr_Ridge.fit(X_train, y_train)\n",
    "\n",
    "    y_train_pred_Ridge = lr_Ridge.predict(X_train)\n",
    "    y_test_pred_Ridge = lr_Ridge.predict(X_valid)\n",
    "    print('\\n[Alpha = %d]' % a )\n",
    "    print('Training: %f' % (get_accuracy(y_train,y_train_pred_Ridge)))\n",
    "    print('valid_acc: %f' % (get_accuracy(y_valid, y_test_pred_Ridge)))"
   ]
  },
  {
   "cell_type": "code",
   "execution_count": 50,
   "metadata": {},
   "outputs": [
    {
     "data": {
      "image/png": "[encoded data removed]",
      "text/plain": [
       "<Figure size 432x288 with 1 Axes>"
      ]
     },
     "metadata": {
      "needs_background": "light"
     },
     "output_type": "display_data"
    },
    {
     "name": "stdout",
     "output_type": "stream",
     "text": [
      "(array([2, 5, 7], dtype=int64),)\n"
     ]
    }
   ],
   "source": [
    "var_num = X_train.shape[1]\n",
    "\n",
    "lr_lasso = Lasso(alpha = 0.03)\n",
    "lr_lasso.fit(X_train, y_train)\n",
    "lr_ridge = Ridge(alpha = 0.03)\n",
    "lr_ridge.fit(X_train, y_train)\n",
    "\n",
    "plt.scatter(range(var_num),lr_lasso.coef_, label = 'LASSO', color = 'blue')\n",
    "plt.scatter(range(var_num),lr_ridge.coef_, label = 'Ridge', color = 'green')\n",
    "plt.hlines(y=0, xmin=0, xmax=var_num-1, color='red', linestyle ='--')\n",
    "plt.xlim(0,12)\n",
    "plt.legend(loc = 'upper right')\n",
    "plt.xlabel('Coefficients index')\n",
    "plt.ylabel('Coefficients')\n",
    "plt.tight_layout()\n",
    "plt.show()\n",
    "\n",
    "epsilon = 1e-20\n",
    "idxs = np.where(abs(lr_lasso.coef_) > epsilon)\n",
    "print(idxs)"
   ]
  },
  {
   "cell_type": "code",
   "execution_count": 51,
   "metadata": {},
   "outputs": [
    {
     "name": "stderr",
     "output_type": "stream",
     "text": [
      "c:\\python37\\lib\\site-packages\\ipykernel_launcher.py:7: FutureWarning: Method .as_matrix will be removed in a future version. Use .values instead.\n",
      "  import sys\n"
     ]
    }
   ],
   "source": [
    "X_train = pd.read_csv('./data/nba/X_train.csv')\n",
    "y_train = pd.read_csv('./data/nba/y_train.csv')\n",
    "\n",
    "X_test = pd.read_csv('./data/nba/X_test.csv')\n",
    "\n",
    "def pd2np(df):\n",
    "    return df.as_matrix()\n",
    "X_train = pd2np(X_train)\n",
    "y_train = pd2np(y_train)\n",
    "\n",
    "X_test = pd2np(X_test)\n",
    "\n",
    "X_train_select = X_train[:,idxs[0]]\n",
    "\n"
   ]
  },
  {
   "cell_type": "code",
   "execution_count": 52,
   "metadata": {},
   "outputs": [],
   "source": [
    "X_train_split, X_valid, y_train_split, y_valid = train_test_split(\n",
    "        X_train_select, y_train, test_size=0.3, random_state=0)\n",
    "\n",
    "poly = PolynomialFeatures(degree=3)\n",
    "poly.fit(X_train_split)\n",
    "X_train_poly = poly.transform(X_train_split)\n",
    "X_test_poly = poly.transform(X_valid)\n",
    "\n",
    "\n",
    "\n",
    "sc = StandardScaler()\n",
    "sc.fit(X_train_poly)\n",
    "X_train_std = sc.transform(X_train_poly)\n",
    "X_valid = sc.transform(X_test_poly)"
   ]
  },
  {
   "cell_type": "code",
   "execution_count": 53,
   "metadata": {},
   "outputs": [
    {
     "name": "stdout",
     "output_type": "stream",
     "text": [
      "Training: 0.614684\n",
      "valid_acc: 0.620420\n"
     ]
    }
   ],
   "source": [
    "# LinearRegression select feature\n",
    "from sklearn.linear_model import LinearRegression\n",
    "regr = LinearRegression()\n",
    "regr.fit(X_train_std, y_train_split)\n",
    "y_train_pred_lire = regr.predict(X_train_std)\n",
    "y_valid_pred_lire = regr.predict(X_valid)\n",
    "\n",
    "print('Training: %f' % (get_accuracy(y_train_split,y_train_pred_lire)))\n",
    "print('valid_acc: %f' % (get_accuracy(y_valid, y_valid_pred_lire)))"
   ]
  },
  {
   "cell_type": "code",
   "execution_count": 54,
   "metadata": {},
   "outputs": [
    {
     "name": "stdout",
     "output_type": "stream",
     "text": [
      "Training: 0.544344\n",
      "valid_acc: 0.542303\n"
     ]
    }
   ],
   "source": [
    "#LASSO select feature\n",
    "\n",
    "lr_rg = Lasso(alpha=1)\n",
    "lr_rg.fit(X_train_std, y_train_split)\n",
    "\n",
    "y_train_pred_lasso = lr_rg.predict(X_train_std)\n",
    "y_valid_pred_lasso = lr_rg.predict(X_valid)\n",
    "\n",
    "print('Training: %f' % (get_accuracy(y_train_split,y_train_pred_lasso)))\n",
    "print('valid_acc: %f' % (get_accuracy(y_valid, y_valid_pred_lasso)))"
   ]
  },
  {
   "cell_type": "code",
   "execution_count": 55,
   "metadata": {},
   "outputs": [
    {
     "name": "stdout",
     "output_type": "stream",
     "text": [
      "Training: 0.614003\n",
      "valid_acc: 0.621247\n"
     ]
    }
   ],
   "source": [
    "#Ridge select feature\n",
    "\n",
    "lr_Ridge = Ridge(alpha=10)\n",
    "lr_Ridge.fit(X_train_std, y_train_split)\n",
    "\n",
    "y_train_pred_Ridge = lr_Ridge.predict(X_train_std)\n",
    "y_test_pred_Ridge = lr_Ridge.predict(X_valid)\n",
    "\n",
    "print('Training: %f' % (get_accuracy(y_train_split,y_train_pred_Ridge)))\n",
    "print('valid_acc: %f' % (get_accuracy(y_valid, y_test_pred_Ridge)))"
   ]
  },
  {
   "cell_type": "code",
   "execution_count": 56,
   "metadata": {},
   "outputs": [],
   "source": [
    "def ACC(model, X, y):\n",
    "    return get_accuracy(y,model.predict(X))"
   ]
  },
  {
   "cell_type": "code",
   "execution_count": 59,
   "metadata": {},
   "outputs": [
    {
     "data": {
      "image/png": "[encoded data removed]",
      "text/plain": [
       "<Figure size 432x288 with 1 Axes>"
      ]
     },
     "metadata": {
      "needs_background": "light"
     },
     "output_type": "display_data"
    }
   ],
   "source": [
    "from sklearn.learning_curve import learning_curve\n",
    "\n",
    "\n",
    "\n",
    "\n",
    "train_sizes, train_scores, test_scores = learning_curve(estimator=lr_Ridge, X=X_train_std, y=y_train_split,scoring=ACC)\n",
    "train_mean = np.mean(train_scores, axis=1)\n",
    "train_std = np.std(train_scores, axis=1)\n",
    "test_mean = np.mean(test_scores, axis=1)\n",
    "test_std = np.std(test_scores, axis=1)\n",
    "\n",
    "plt.plot(train_sizes, train_mean,\n",
    "    color='blue', marker='o',\n",
    "    markersize=5,\n",
    "    label='Training acc')\n",
    "plt.fill_between(train_sizes,\n",
    "    train_mean+train_std,\n",
    "    train_mean-train_std,\n",
    "    alpha=0.15, color='blue')\n",
    "    \n",
    "plt.plot(train_sizes, test_mean,\n",
    "    color='green', linestyle='--',\n",
    "    marker='s', markersize=5,\n",
    "    label='Testing acc')\n",
    "plt.fill_between(train_sizes,\n",
    "    test_mean+test_std,\n",
    "    test_mean-test_std,\n",
    "    alpha=0.15, color='green')\n",
    "    \n",
    "    \n",
    "\n",
    "plt.grid()\n",
    "plt.xlabel('Number of training samples')\n",
    "plt.ylabel('ACC')\n",
    "plt.legend(loc='upper right')\n",
    "plt.ylim([0.6, 0.65])\n",
    "plt.tight_layout()\n",
    "plt.savefig('./output/fig-learning-curve-.png' , dpi=300)\n",
    "plt.show()"
   ]
  },
  {
   "cell_type": "code",
   "execution_count": 60,
   "metadata": {},
   "outputs": [
    {
     "data": {
      "image/png": "[encoded data removed]",
      "text/plain": [
       "<Figure size 432x288 with 1 Axes>"
      ]
     },
     "metadata": {
      "needs_background": "light"
     },
     "output_type": "display_data"
    }
   ],
   "source": [
    "import csv\n",
    "\n",
    "poly = PolynomialFeatures(degree=3)\n",
    "poly.fit(X_train_select)\n",
    "X_train_select_poly = poly.transform(X_train_select)\n",
    "\n",
    "sc = StandardScaler()\n",
    "sc.fit(X_train_select_poly)\n",
    "X_train_select_poly_std = sc.transform(X_train_select_poly)\n",
    "\n",
    "\n",
    "lr_Ridge = Ridge(alpha=10)\n",
    "lr_Ridge.fit(X_train_select_poly_std, y_train)\n",
    "###plot learning curve\n",
    "train_sizes, train_scores, test_scores = learning_curve(estimator=lr_Ridge, X=X_train_select_poly_std, y=y_train,scoring=ACC)\n",
    "\n",
    "train_mean = np.mean(train_scores, axis=1)\n",
    "train_std = np.std(train_scores, axis=1)\n",
    "test_mean = np.mean(test_scores, axis=1)\n",
    "test_std = np.std(test_scores, axis=1)\n",
    "\n",
    "plt.plot(train_sizes, train_mean,\n",
    "    color='blue', marker='o',\n",
    "    markersize=5,\n",
    "    label='Training acc')\n",
    "plt.fill_between(train_sizes,\n",
    "    train_mean+train_std,\n",
    "    train_mean-train_std,\n",
    "    alpha=0.15, color='blue')\n",
    "    \n",
    "plt.plot(train_sizes, test_mean,\n",
    "    color='green', linestyle='--',\n",
    "    marker='s', markersize=5,\n",
    "    label='Testing acc')\n",
    "plt.fill_between(train_sizes,\n",
    "    test_mean+test_std,\n",
    "    test_mean-test_std,\n",
    "    alpha=0.15, color='green')\n",
    "    \n",
    "###    \n",
    "\n",
    "plt.grid()\n",
    "plt.xlabel('Number of training samples')\n",
    "plt.ylabel('ACC')\n",
    "plt.legend(loc='upper right')\n",
    "plt.ylim([0.6, 0.65])\n",
    "plt.tight_layout()\n",
    "plt.savefig('./output/fig-learning-curve-.png' , dpi=300)\n",
    "plt.show()\n",
    "\n",
    "\n",
    "\n",
    "\n",
    "\n",
    "X_test = X_test[:,idxs[0]]\n",
    "X_test = poly.transform(X_test)\n",
    "X_test_std = sc.transform(X_test)\n",
    "\n",
    "y_pred = lr_Ridge.predict(X_test_std)\n",
    "\n",
    "#print(y_pred)\n",
    "\n",
    "for i in range(y_pred.shape[0]):\n",
    "    if(y_pred[i]>0.5):\n",
    "        y_pred[i] = 1\n",
    "    else:\n",
    "        y_pred[i] = 0\n",
    "#print(y_pred)\n",
    "\n",
    "\n",
    "\n",
    "with open('Lab05_107062616.csv', 'w', newline='') as csvfile:\n",
    "    writer = csv.writer(csvfile)\n",
    "\n",
    "  # 寫入二維表格\n",
    "    writer.writerows(y_pred)\n"
   ]
  },
  {
   "cell_type": "markdown",
   "metadata": {},
   "source": [
    "\n",
    "此次作業我分別用了 RandomForestClassifier 一開始看了label後覺得這是屬於分類問題，所以第一個想到要嘗試的就是之前學過的分類器。\n",
    "但結果發現training accuary幾乎接近1而testing acurracy 大概只有5成多左右，明顯是overfitting了。而這次lab談的是各種regression，\n",
    "我就上網google查詢regression要如何做分類。這幾堂課下來，我的認知是regression 是找一條回歸線，但要怎麼去做分類啊?\n",
    "找到的是這篇https://discuss.analyticsvidhya.com/t/using-linear-regression-for-a-classification-problem/9848/2\n",
    "文中提到將linear regressrion應用在分類並不是一個荒謬的想法，而logistic regression或其他分類方法優於linear regressrion。\n",
    "是可以應用linear regressrion進行分類那就設定通過一個threshold。我就使用0.5作為分類的threshold。後來我就利用這次lab和之前lab所教的 Polynomial linear regressrion, \n",
    "lasso regressrion,ridge regressrion。試過各種a值發現a = 1和polynomial feature degree= 3效果不錯，最後結果是ridge的成果最好(valid_accuracy最高)，\n",
    "learning curve看起來也沒有overfitting。\n",
    "作業上半部是沒挑feature做出來的結果，作業下半部是用lasso挑出column 2,5,7 三個TOP feature 做一些處理後做出來得結果，learning curve沒有overfitting，\n",
    "至於training error 高於 testing error的可能原因也許是testing set剛好較fit此model。\n",
    "\n",
    "\n"
   ]
  },
  {
   "cell_type": "code",
   "execution_count": null,
   "metadata": {},
   "outputs": [],
   "source": []
  },
  {
   "cell_type": "code",
   "execution_count": null,
   "metadata": {},
   "outputs": [],
   "source": []
  }
 ],
 "metadata": {
  "kernelspec": {
   "display_name": "Python 3",
   "language": "python",
   "name": "python3"
  },
  "language_info": {
   "codemirror_mode": {
    "name": "ipython",
    "version": 3
   },
   "file_extension": ".py",
   "mimetype": "text/x-python",
   "name": "python",
   "nbconvert_exporter": "python",
   "pygments_lexer": "ipython3",
   "version": "3.6.6"
  }
 },
 "nbformat": 4,
 "nbformat_minor": 2
}
